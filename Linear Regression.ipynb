{
 "cells": [
  {
   "cell_type": "code",
   "execution_count": 1,
   "metadata": {
    "collapsed": false
   },
   "outputs": [],
   "source": [
    "import matplotlib.pyplot as plt\n",
    "import numpy as np\n",
    "\n"
   ]
  },
  {
   "cell_type": "code",
   "execution_count": 194,
   "metadata": {
    "collapsed": true
   },
   "outputs": [],
   "source": [
    "Fs = 1\n",
    "f = 1\n",
    "min_in = 0\n",
    "max_in = 1\n",
    "noise_mu = 0\n",
    "noise_sigma = 0.1\n",
    "linspace_predict = 1000\n",
    "linspace_input = 10\n",
    "def make_sine_func(x):\n",
    "    return np.sin(2 * np.pi * f * x / Fs)"
   ]
  },
  {
   "cell_type": "code",
   "execution_count": 195,
   "metadata": {
    "collapsed": false
   },
   "outputs": [
    {
     "data": {
      "image/png": "[encoded data removed]",
      "text/plain": [
       "<matplotlib.figure.Figure at 0x12174bc8828>"
      ]
     },
     "metadata": {},
     "output_type": "display_data"
    }
   ],
   "source": [
    "\n",
    "X = np.linspace(min_in, max_in, linspace_input)\n",
    "noise = np.random.normal(noise_mu, noise_sigma, X.size)\n",
    "T = make_sine_func(X) + noise\n",
    "\n",
    "x0 = np.linspace(min_in, max_in, linspace_predict)\n",
    "y0 = make_sine_func(x0)\n",
    "plt.plot(X, T, 'go')\n",
    "plt.plot(x0, y0, 'r')\n",
    "plt.xlabel('input')\n",
    "plt.ylabel('output')\n",
    "plt.show()"
   ]
  },
  {
   "cell_type": "code",
   "execution_count": 198,
   "metadata": {
    "collapsed": false
   },
   "outputs": [],
   "source": [
    "def phi_j(x, j):\n",
    "    return np.power(x, j)\n",
    "def phi(x, M):\n",
    "    return np.fromiter((np.power(x, i) for i in range(M)), np.float64)\n",
    "def predict(M, W, x):\n",
    "    phi_x = phi(x, M)\n",
    "    return np.transpose(W).dot(phi_x)\n",
    "def sum_of_square(X, T, W, M):\n",
    "    predicted = np.zeros(X.size)\n",
    "    for i in range(X.size):\n",
    "        predicted[i] = predict(M, W, X[i])\n",
    "        #print(\"x: {}, t:{}, predicted:{}\".format(X[i], T[i], predicted[i]))\n",
    "    error = np.subtract(predicted, T)\n",
    "    #print(\"Error\")\n",
    "    #print(error)\n",
    "    result = np.multiply(np.divide(1, 2),error.dot(error))\n",
    "    #print(\"Sum square: {}\".format(result))\n",
    "    return result\n",
    "def regularized_error(X, T, W, M, weight_decay):\n",
    "    return sum_of_square(X, T, W, M) + weight_decay * 0.5 * W.dot(W)\n",
    "def initialize_weight(M, sigma):\n",
    "    W = np.random.normal(0, sigma, M)\n",
    "    #W = np.zeros(M)\n",
    "    return W\n",
    "def gradient(X, T, W, M, weight_decay):\n",
    "    regulizer = weight_decay * W\n",
    "    regulizer[0] = 0\n",
    "    #print(regulizer)\n",
    "    regulizer[0] = 0.\n",
    "    result = np.zeros(M)\n",
    "    for i in range(X.size):\n",
    "        result += (predict(M, W, X[i]) - T[i]) * phi(X[i], M)\n",
    "    #print(result)\n",
    "    result += regulizer\n",
    "    return result\n",
    "def update_weight(X, T, W, M, weight_decay, learning_rate):\n",
    "    #print(W)\n",
    "    #print(weight_decay)\n",
    "    #print(learning_rate)\n",
    "    #print(gradient(X, T, W, M, weight_decay))\n",
    "    return W - np.divide(1, X.size) * learning_rate * gradient(X, T, W, M, weight_decay)"
   ]
  },
  {
   "cell_type": "code",
   "execution_count": 211,
   "metadata": {
    "collapsed": false
   },
   "outputs": [
    {
     "name": "stdout",
     "output_type": "stream",
     "text": [
      "[ 0.07508199 -0.30450247  0.05167541  0.13288196  0.05198149 -0.18446003\n",
      " -0.04119105 -0.08096408 -0.0905199   0.0268171   0.01428835 -0.00635482\n",
      " -0.0589993   0.05322692 -0.08533219 -0.03893933  0.04517735  0.13540681\n",
      "  0.05305991  0.06309336  0.17712372 -0.08297647  0.03730093 -0.00392426\n",
      "  0.07105852 -0.01934616 -0.04886231 -0.02508933  0.11809388  0.15983549\n",
      " -0.07912521  0.1007229   0.00340594  0.04989395 -0.05074935  0.07466746\n",
      "  0.0754681  -0.02986528  0.05678812 -0.18595021 -0.22081377 -0.16662964\n",
      "  0.08365771 -0.03146461  0.02283028 -0.16146197 -0.00056026  0.04221934\n",
      "  0.05560754  0.03225698 -0.02118084  0.0634349   0.10071924  0.08556677\n",
      " -0.10894982  0.13601106 -0.06064807 -0.02805646 -0.08398129 -0.08961943\n",
      " -0.01579853  0.07007361 -0.06342434  0.03889985  0.03680457  0.02350463\n",
      " -0.07793216  0.07476922 -0.08864918  0.11780608 -0.09935608 -0.13594712\n",
      " -0.02709829 -0.05282045 -0.09668512  0.12970471 -0.04613558  0.17314259\n",
      " -0.01693129 -0.18170906  0.05664638  0.10180718  0.1814369  -0.10029101\n",
      " -0.12342016 -0.01564072  0.04990076 -0.00739769  0.01734947 -0.12187589\n",
      "  0.01477239  0.0718462   0.05684191  0.03306451 -0.18062032 -0.05792808\n",
      "  0.00033326 -0.04217889 -0.00078037 -0.13912726]\n",
      "[ 0.01570485  0.83371353  0.83863186  0.88248675  0.21472515 -0.14886505\n",
      " -0.96915891 -1.05018023 -0.57326845  0.08848717]\n",
      "[ 0.          0.11111111  0.22222222  0.33333333  0.44444444  0.55555556\n",
      "  0.66666667  0.77777778  0.88888889  1.        ]\n",
      "[ 0.50496491  1.29229623 -2.69659652 -2.22540722 -1.23969233 -0.57637601\n",
      "  0.18502554  0.5274973   0.7308178   0.9470377   0.95968269  0.918292\n",
      "  0.81764071  0.86691558  0.65845852  0.63310344  0.64678412  0.66977028\n",
      "  0.52441196  0.4761583   0.53676867  0.22804017  0.30427455  0.22331172\n",
      "  0.2625465   0.140056    0.08179232  0.07984496  0.20004208  0.22125968\n",
      " -0.03601327  0.12750572  0.01563511  0.04915715 -0.06303377  0.05210149\n",
      "  0.04375002 -0.0697285   0.00967716 -0.23950944 -0.2801093  -0.23102757\n",
      "  0.01472165 -0.10443664 -0.05373087 -0.24121469 -0.08315089 -0.04289461\n",
      " -0.03174994 -0.05709519 -0.11230642 -0.02926731  0.00661537 -0.00978318\n",
      " -0.20540752  0.0385686  -0.15896596 -0.12715256 -0.18376919 -0.19002229\n",
      " -0.11674804 -0.03136185 -0.16529176 -0.06335155 -0.06578816 -0.07939151\n",
      " -0.18109801 -0.02863636 -0.19226787  0.01399796 -0.20333259 -0.24007331\n",
      " -0.13135753 -0.15719795 -0.20116775  0.02512864 -0.15079472  0.06840962\n",
      " -0.12172989 -0.286566   -0.04826242 -0.00314771  0.07644103 -0.2053233\n",
      " -0.22848483 -0.12073416 -0.05521826 -0.11253945 -0.08781251 -0.22705583\n",
      " -0.09042351 -0.0333639  -0.04838081 -0.07216942 -0.28586422 -0.16318085\n",
      " -0.10492739 -0.14744654 -0.10605425 -0.24440667]\n"
     ]
    },
    {
     "data": {
      "image/png": "[encoded data removed]",
      "text/plain": [
       "<matplotlib.figure.Figure at 0x121749624e0>"
      ]
     },
     "metadata": {},
     "output_type": "display_data"
    }
   ],
   "source": [
    "# hyperparameter\n",
    "M = 100\n",
    "LEARNING_RATE = 0.1\n",
    "WEIGHT_DECAY = 0.0\n",
    "WEIGHT_SIGMA = 0.1\n",
    "STEP = 5000\n",
    "steps = np.arange(STEP)\n",
    "errors = []\n",
    "W = initialize_weight(M, WEIGHT_SIGMA)\n",
    "#print(W)\n",
    "#print(T)\n",
    "#print(X)\n",
    "for _ in range(STEP):\n",
    "    error = regularized_error(X, T, W, M, WEIGHT_DECAY)\n",
    "    errors.append(error)\n",
    "    #print(predict(M, W, X[0]))\n",
    "    W = update_weight(X, T, W, M, WEIGHT_DECAY, LEARNING_RATE)\n",
    "    #print(W)\n",
    "print(W)\n",
    "W_1 = [0.31, 7.99, -25.43, 17.37]\n",
    "predicted = np.fromiter((predict(M, W, x0[i]) for i in range(x0.size)), np.float64)\n",
    "plt.figure(1)\n",
    "plt.subplot(211)\n",
    "plt.plot(X, T, 'go')\n",
    "plt.plot(x0, predicted, 'r')\n",
    "plt.subplot(212)\n",
    "plt.plot(steps, errors)\n",
    "plt.show()\n"
   ]
  },
  {
   "cell_type": "code",
   "execution_count": null,
   "metadata": {
    "collapsed": true
   },
   "outputs": [],
   "source": []
  }
 ],
 "metadata": {
  "kernelspec": {
   "display_name": "Python 3",
   "language": "python",
   "name": "python3"
  },
  "language_info": {
   "codemirror_mode": {
    "name": "ipython",
    "version": 3
   },
   "file_extension": ".py",
   "mimetype": "text/x-python",
   "name": "python",
   "nbconvert_exporter": "python",
   "pygments_lexer": "ipython3",
   "version": "3.6.0"
  }
 },
 "nbformat": 4,
 "nbformat_minor": 2
}
