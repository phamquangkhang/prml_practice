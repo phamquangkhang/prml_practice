{
 "cells": [
  {
   "cell_type": "code",
   "execution_count": 64,
   "metadata": {
    "collapsed": false
   },
   "outputs": [],
   "source": [
    "import matplotlib.pyplot as plt\n",
    "import numpy as np\n",
    "\n"
   ]
  },
  {
   "cell_type": "code",
   "execution_count": 69,
   "metadata": {
    "collapsed": true
   },
   "outputs": [],
   "source": [
    "Fs = 1\n",
    "f = 1\n",
    "min_in = 0\n",
    "max_in = 1\n",
    "noise_mu = 0\n",
    "noise_sigma = 0.1\n",
    "linspace_predict = 1000\n",
    "linspace_input = 20\n",
    "\n",
    "# hyperparameter\n",
    "COMPLEXITY = 4\n",
    "\n",
    "def make_sine_func(x):\n",
    "    return np.sin(2 * np.pi * f * x / Fs)"
   ]
  },
  {
   "cell_type": "code",
   "execution_count": 71,
   "metadata": {
    "collapsed": false
   },
   "outputs": [
    {
     "data": {
      "image/png": "[encoded data removed]",
      "text/plain": [
       "<matplotlib.figure.Figure at 0x1d041bf6ac8>"
      ]
     },
     "metadata": {},
     "output_type": "display_data"
    }
   ],
   "source": [
    "\n",
    "X = np.linspace(min_in, max_in, linspace_input)\n",
    "noise = np.random.normal(noise_mu, noise_sigma, x.size)\n",
    "T = make_sine_func(x) + noise\n",
    "\n",
    "x0 = np.linspace(min_in, max_in, linspace_predict)\n",
    "y0 = make_sine_func(x0)\n",
    "plt.plot(X, T, 'go')\n",
    "plt.plot(x0, y0, 'r')\n",
    "plt.xlabel('input')\n",
    "plt.ylabel('output')\n",
    "plt.show()"
   ]
  },
  {
   "cell_type": "code",
   "execution_count": 145,
   "metadata": {
    "collapsed": false
   },
   "outputs": [],
   "source": [
    "def phi_j(x, j):\n",
    "    return np.power(x, j)\n",
    "def phi(x, M):\n",
    "    return np.fromiter((np.power(x, i) for i in range(M)), np.float)\n",
    "def predict(M, W, x):\n",
    "    result = 0\n",
    "    #print(W)\n",
    "    for i in range(M):\n",
    "        result += W[i] * phi_j(x, i)\n",
    "    return result\n",
    "def square_error(M, W, t, x):\n",
    "    #print(\"T:{}\".format(t))\n",
    "    #print(\"X:{}\".format(predict(M, W, x)))\n",
    "    return np.power(t - predict(M, W, x), 2)\n",
    "def sum_of_square(X, T, W, M):\n",
    "    result = 0\n",
    "    for i in range(X.size):\n",
    "        result += np.divide(1, 2) * square_error(M, W, T[i], X[i])\n",
    "    return result\n",
    "def regularized_error(X, T, W, M, weight_decay):\n",
    "    return sum_of_square(X, T, W, M) + weight_decay * np.divide(1, 2) * np.linalg.norm(W)\n",
    "def initialize_weight(M, sigma):\n",
    "    W = np.random.normal(0, sigma, M)\n",
    "    return W\n",
    "def gradient(X, T, W, M, weight_decay):\n",
    "    regulizer = weight_decay * W\n",
    "    #regulizer[0] = 0.\n",
    "    result = np.zeros(M)\n",
    "    for i in range(X.size):\n",
    "        result += (T[i] - predict(M, W, X[i])) * phi(X[i], M)\n",
    "    result += regulizer\n",
    "    return result\n",
    "def update_weight(X, T, W, M, weight_decay, learning_rate):\n",
    "    print(W)\n",
    "    return W - learning_rate * gradient(X, T, W, M, weight_decay)"
   ]
  },
  {
   "cell_type": "code",
   "execution_count": 165,
   "metadata": {
    "collapsed": true
   },
   "outputs": [],
   "source": [
    "# hyperparameter\n",
    "M = 9\n",
    "LEARNING_RATE = 0.1\n",
    "WEIGHT_DECAY = 0.1\n",
    "WEIGHT_SIGMA = 0.1\n",
    "STEP = 5"
   ]
  },
  {
   "cell_type": "code",
   "execution_count": 174,
   "metadata": {
    "collapsed": false
   },
   "outputs": [
    {
     "name": "stdout",
     "output_type": "stream",
     "text": [
      "[-0.2006251   0.05664463  0.03078957  0.23392472 -0.06134812  0.11647535\n",
      " -0.06887953  0.06570267 -0.02880376]\n",
      "[-0.2006251   0.05664463  0.03078957  0.23392472 -0.06134812  0.11647535\n",
      " -0.06887953  0.06570267 -0.02880376]\n",
      "[-0.39200574  0.30906897  0.31933677  0.48908198  0.15797335  0.29987749\n",
      "  0.08850064  0.19939388  0.08792554]\n",
      "[-0.09701242  1.05224372  1.05073644  1.1449543   0.74374465  0.82197191\n",
      "  0.56174251  0.6299618   0.48549268]\n",
      "[ 3.20297516  3.99326935  3.58758402  3.35903711  2.71440906  2.59968331\n",
      "  2.18999339  2.13489593  1.89124438]\n",
      "[ 21.75548427  17.02550673  14.08919619  12.29243435  10.56914411\n",
      "   9.6564951    8.63657349   8.09461812   7.45722926]\n"
     ]
    },
    {
     "data": {
      "image/png": "[encoded data removed]",
      "text/plain": [
       "<matplotlib.figure.Figure at 0x1d0420a2d68>"
      ]
     },
     "metadata": {},
     "output_type": "display_data"
    }
   ],
   "source": [
    "steps = np.arange(STEP)\n",
    "errors = []\n",
    "W = initialize_weight(M, WEIGHT_SIGMA)\n",
    "print(W)\n",
    "for _ in range(STEP):\n",
    "    error = regularized_error(X, T, W, M, WEIGHT_DECAY)\n",
    "    errors.append(error)\n",
    "    #print(predict(M, W, X[0]))\n",
    "    W = update_weight(X, T, W, M, WEIGHT_DECAY, LEARNING_RATE)\n",
    "\n",
    "predicted = np.fromiter((predict(M, W, x0[i]) for i in range(x0.size)), np.float)\n",
    "plt.plot(X, T, 'go')\n",
    "plt.plot(x0, predicted, 'r') \n",
    "plt.show() "
   ]
  },
  {
   "cell_type": "code",
   "execution_count": null,
   "metadata": {
    "collapsed": true
   },
   "outputs": [],
   "source": []
  }
 ],
 "metadata": {
  "kernelspec": {
   "display_name": "Python 3",
   "language": "python",
   "name": "python3"
  },
  "language_info": {
   "codemirror_mode": {
    "name": "ipython",
    "version": 3
   },
   "file_extension": ".py",
   "mimetype": "text/x-python",
   "name": "python",
   "nbconvert_exporter": "python",
   "pygments_lexer": "ipython3",
   "version": "3.6.0"
  }
 },
 "nbformat": 4,
 "nbformat_minor": 2
}
