{
 "cells": [
  {
   "cell_type": "code",
   "execution_count": 1,
   "metadata": {
    "collapsed": true
   },
   "outputs": [],
   "source": [
    "import matplotlib.pyplot as plt\n",
    "import numpy as np\n",
    "from imp import reload"
   ]
  },
  {
   "cell_type": "code",
   "execution_count": 2,
   "metadata": {
    "collapsed": false
   },
   "outputs": [],
   "source": [
    "import os.path\n",
    "import gzip\n",
    "import pickle\n",
    "import os\n",
    "import urllib.request\n",
    "from PIL import Image\n",
    "from mnist_load import load_mnist\n",
    "#%run mnist_load.py"
   ]
  },
  {
   "cell_type": "code",
   "execution_count": 87,
   "metadata": {
    "collapsed": false
   },
   "outputs": [],
   "source": [
    "import model\n",
    "import common.layers\n",
    "reload(common.layers)\n",
    "reload(model)\n",
    "from model import Model\n",
    "from train import Train\n",
    "from common.util import shuffle_dataset\n",
    "from common.optimizer import *\n",
    "from common.layers import *"
   ]
  },
  {
   "cell_type": "code",
   "execution_count": 114,
   "metadata": {
    "collapsed": false
   },
   "outputs": [],
   "source": [
    "#reload(model)\n",
    "#reload(train)\n",
    "#input size\n",
    "INPUT_SIZE = 1 * 28 * 28\n",
    "#design for number of unit in each hidden layer\n",
    "HIDDEN_SIZE_LIST = [100, 100, 100, 100, 100]\n",
    "#output size\n",
    "OUTPUT_SIZE = 10\n",
    "#Number of epocs for graphs\n",
    "EPOC_NUM=300\n",
    "#batch size for each iteration\n",
    "BATCH_SIZE = 100\n",
    "#learning rate\n",
    "LEARNING_RATE = 0.01\n",
    "#standard deviation for weights\n",
    "WEIGHT_INIT_STD = 0.01\n",
    "#proportion of validation data\n",
    "VALIDATION_RATE = 0.20\n",
    "#Weight decay lambda\n",
    "WEIGHT_DECAY = 0.01\n",
    "# Take some of training data for test: this case is first 1000 datas\n",
    "(x_train, t_train), (x_test, t_test) = load_mnist(normalize=True)\n",
    "x_train = x_train[:1000]\n",
    "t_train = t_train[:1000]\n",
    "\n",
    "#Using a quantity of training set for validation: use to optimize hyperparameter\n",
    "validation_num = int(x_train.shape[0] * VALIDATION_RATE)\n",
    "#shuffle training data\n",
    "x_train, t_train = shuffle_dataset(x_train, t_train)\n",
    "#setup training data and validation data\n",
    "x_validation = x_train[:validation_num]\n",
    "t_validation = t_train[:validation_num]\n",
    "x_train = x_train[validation_num:]\n",
    "t_train = t_train[validation_num:]\n",
    "#optimizer list\n",
    "#optimizer_class_dict = {'sgd': SGD, 'momentum': Momentum, 'nesterov': Nesterov,'adagrad': AdaGrad, 'rmsprpo': RMSprop, 'adam': Adam}"
   ]
  },
  {
   "cell_type": "code",
   "execution_count": 141,
   "metadata": {
    "collapsed": false
   },
   "outputs": [
    {
     "name": "stdout",
     "output_type": "stream",
     "text": [
      "(800, 784)\n",
      "(800,)\n",
      "(200, 784)\n",
      "(200,)\n"
     ]
    }
   ],
   "source": [
    "print(x_train.shape)\n",
    "print(t_train.shape)\n",
    "print(x_validation.shape)\n",
    "print(t_validation.shape)\n",
    "model = Model(input_size=INPUT_SIZE, hidden_size_list=HIDDEN_SIZE_LIST, output_size=OUTPUT_SIZE,\n",
    "                                weight_init_std=WEIGHT_INIT_STD,activation='Relu', weight_decay_lambda=WEIGHT_DECAY,\n",
    "                 use_weight_init_std=True, use_dropout = False, dropout_ratio = 0.1, use_batchnorm=True)\n",
    "train = Train(model, x_train, t_train, x_validation, t_validation,\n",
    "                      epochs=EPOC_NUM, mini_batch_size=BATCH_SIZE,\n",
    "                      optimizer='sgd', optimizer_param={'lr': LEARNING_RATE}, verbose=False)"
   ]
  },
  {
   "cell_type": "code",
   "execution_count": 142,
   "metadata": {
    "collapsed": false
   },
   "outputs": [],
   "source": [
    "train.train()"
   ]
  },
  {
   "cell_type": "code",
   "execution_count": 143,
   "metadata": {
    "collapsed": false
   },
   "outputs": [
    {
     "name": "stdout",
     "output_type": "stream",
     "text": [
      "2400\n",
      "300\n"
     ]
    },
    {
     "data": {
      "image/png": "[encoded data removed]",
      "text/plain": [
       "<matplotlib.figure.Figure at 0x23b2c220a58>"
      ]
     },
     "metadata": {},
     "output_type": "display_data"
    }
   ],
   "source": [
    "train_acc, test_acc = train.train_accuracy_list, train.test_accuracy_list\n",
    "loss = train.train_loss_list\n",
    "print(len(loss))\n",
    "print(len(train_acc))\n",
    "accuracy_iter_list = np.arange(len(train_acc))\n",
    "loss_iter_list = np.arange(len(loss))\n",
    "plt.figure(1)\n",
    "plt.subplot(211)\n",
    "plt.plot(accuracy_iter_list, train_acc,'r')\n",
    "plt.plot(accuracy_iter_list, test_acc,'b')\n",
    "plt.subplot(212)\n",
    "plt.plot(loss_iter_list, np.log(loss),'black')\n",
    "plt.show()"
   ]
  },
  {
   "cell_type": "code",
   "execution_count": 144,
   "metadata": {
    "collapsed": false
   },
   "outputs": [
    {
     "name": "stdout",
     "output_type": "stream",
     "text": [
      "0.935\n",
      "1.0\n"
     ]
    }
   ],
   "source": [
    "print(np.amax(np.array(test_acc)))\n",
    "print(np.amax(np.array(train_acc)))"
   ]
  },
  {
   "cell_type": "code",
   "execution_count": null,
   "metadata": {
    "collapsed": true
   },
   "outputs": [],
   "source": []
  }
 ],
 "metadata": {
  "anaconda-cloud": {},
  "kernelspec": {
   "display_name": "Python 3",
   "language": "python",
   "name": "python3"
  },
  "language_info": {
   "codemirror_mode": {
    "name": "ipython",
    "version": 3
   },
   "file_extension": ".py",
   "mimetype": "text/x-python",
   "name": "python",
   "nbconvert_exporter": "python",
   "pygments_lexer": "ipython3",
   "version": "3.6.0"
  }
 },
 "nbformat": 4,
 "nbformat_minor": 2
}
